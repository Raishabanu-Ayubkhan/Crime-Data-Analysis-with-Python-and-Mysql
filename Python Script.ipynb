{
 "cells": [
  {
   "cell_type": "markdown",
   "id": "8a4367d8-c47d-4f31-8a37-323ad90fe7df",
   "metadata": {},
   "source": [
    "### _Mini Capstone Project: Crime Data Analysis with MySQL and Python<br> by A.Raishabanu(S7986)_"
   ]
  },
  {
   "cell_type": "markdown",
   "id": "c68b32b9-c2a7-433f-aee5-fd04760c015a",
   "metadata": {},
   "source": [
    "## __2. Database Connection__ :"
   ]
  },
  {
   "cell_type": "markdown",
   "id": "5a8d3cc7-8db4-4df7-b9c6-8b3c494af6c2",
   "metadata": {},
   "source": [
    "### __2.1 PyMySQL to establish a connection to the database__"
   ]
  },
  {
   "cell_type": "code",
   "execution_count": 5,
   "id": "8e9ecb18",
   "metadata": {},
   "outputs": [
    {
     "name": "stdout",
     "output_type": "stream",
     "text": [
      "Requirement already satisfied: pymysql in c:\\users\\admin\\anaconda3\\lib\\site-packages (1.1.1)\n",
      "Note: you may need to restart the kernel to use updated packages.\n"
     ]
    }
   ],
   "source": [
    "pip install pymysql"
   ]
  },
  {
   "cell_type": "code",
   "execution_count": 6,
   "id": "bed743d0-b7cf-42ad-aa9c-6fb74f549677",
   "metadata": {},
   "outputs": [],
   "source": [
    "import pymysql\n",
    "conn=pymysql.connect(\n",
    "    host='localhost',\n",
    "    user='root',\n",
    "    password='banu',\n",
    "    db='crimedb')\n"
   ]
  },
  {
   "cell_type": "markdown",
   "id": "ef930085-756d-4c33-b937-df983a7e5dd8",
   "metadata": {},
   "source": [
    "### __Verify Successfull Connection by printing Object__"
   ]
  },
  {
   "cell_type": "code",
   "execution_count": 7,
   "id": "c959642b-7c4d-4e76-be16-c90c28ef9cf3",
   "metadata": {},
   "outputs": [
    {
     "name": "stdout",
     "output_type": "stream",
     "text": [
      "<pymysql.connections.Connection object at 0x000001EC68FF29D0>\n"
     ]
    }
   ],
   "source": [
    "print(conn)"
   ]
  },
  {
   "cell_type": "markdown",
   "id": "9b116b36-ea2a-446b-94f9-85631c68ae67",
   "metadata": {},
   "source": [
    "### __Import mandatory Packages__"
   ]
  },
  {
   "cell_type": "code",
   "execution_count": 8,
   "id": "ff3c8d68-c05d-40e0-8804-c50f6000f07d",
   "metadata": {},
   "outputs": [],
   "source": [
    "import pandas as pd\n",
    "import numpy as np\n",
    "import matplotlib.pyplot as plt\n",
    "%matplotlib inline\n",
    "import seaborn as sns\n",
    "import plotly.express as px"
   ]
  },
  {
   "cell_type": "markdown",
   "id": "21e40a27-be6e-4bd6-9331-53e4ff6e0a55",
   "metadata": {},
   "source": [
    "### __Verify the successful import of data__"
   ]
  },
  {
   "cell_type": "code",
   "execution_count": 9,
   "id": "836fb76a-bc85-45b6-9838-6ea8ceacc899",
   "metadata": {},
   "outputs": [
    {
     "name": "stdout",
     "output_type": "stream",
     "text": [
      "         DR_NO   Date_Rptd    DATE_OCC    AREA_NAME  Crm_Cd  \\\n",
      "0     10304468  01-08-2020  01-08-2020    Southwest     624   \n",
      "1    190101086  01-02-2020  01-01-2020      Central     624   \n",
      "2    191501505  01-01-2020  01-01-2020  N Hollywood     745   \n",
      "3    191921269  01-01-2020  01-01-2020      Mission     740   \n",
      "4    200100502  01-02-2020  01-02-2020      Central     442   \n",
      "..         ...         ...         ...          ...     ...   \n",
      "494  200106614  02-07-2020  02-07-2020      Central     624   \n",
      "495  200106615  02-07-2020  02-07-2020      Central     624   \n",
      "496  200106616  02-07-2020  02-07-2020      Central     624   \n",
      "497  200106617  02-07-2020  01-10-2020      Central     510   \n",
      "498  200106618  02-07-2020  02-03-2020      Central     745   \n",
      "\n",
      "                                           Crm_Cd_Desc  Vict_Age Vict_Sex  \\\n",
      "0                             BATTERY - SIMPLE ASSAULT        36        F   \n",
      "1                             BATTERY - SIMPLE ASSAULT        25        M   \n",
      "2             VANDALISM - MISDEAMEANOR ($399 OR UNDER)        76        F   \n",
      "3    VANDALISM - FELONY ($400 & OVER, ALL CHURCH VA...        31        X   \n",
      "4             SHOPLIFTING - PETTY THEFT ($950 & UNDER)        23        M   \n",
      "..                                                 ...       ...      ...   \n",
      "494                           BATTERY - SIMPLE ASSAULT        33        M   \n",
      "495                           BATTERY - SIMPLE ASSAULT        25        M   \n",
      "496                           BATTERY - SIMPLE ASSAULT        35        M   \n",
      "497                                   VEHICLE - STOLEN         0        F   \n",
      "498           VANDALISM - MISDEAMEANOR ($399 OR UNDER)        72        M   \n",
      "\n",
      "                                      Premis_Desc Status            Location  \\\n",
      "0                          SINGLE FAMILY DWELLING     AO      1100 W 39TH PL   \n",
      "1                                        SIDEWALK     IC       700 S HILL ST   \n",
      "2    MULTI-UNIT DWELLING (APARTMENT, DUPLEX, ETC)     IC     5400 CORTEEN PL   \n",
      "3                             BEAUTY SUPPLY STORE     IC      14400 TITUS ST   \n",
      "4                                DEPARTMENT STORE     IC   700 S FIGUEROA ST   \n",
      "..                                            ...    ...                 ...   \n",
      "494                                      SIDEWALK     IC   2400 ELLENDALE PL   \n",
      "495                                      SIDEWALK     IC             39TH PL   \n",
      "496                                   OTHER STORE     IC    2500 W VERNON AV   \n",
      "497                                   PARKING LOT     IC   700 EXPOSITION BL   \n",
      "498                      VEHICLE, PASSENGER/TRUCK     IC  2600 S FIGUEROA ST   \n",
      "\n",
      "       LAT     LON  \n",
      "0    34.01 -118.30  \n",
      "1    34.05 -118.25  \n",
      "2    34.17 -118.40  \n",
      "3    34.22 -118.45  \n",
      "4    34.05 -118.26  \n",
      "..     ...     ...  \n",
      "494  34.05 -118.26  \n",
      "495  34.05 -118.26  \n",
      "496  34.05 -118.25  \n",
      "497  34.05 -118.25  \n",
      "498  34.05 -118.24  \n",
      "\n",
      "[499 rows x 13 columns]\n"
     ]
    },
    {
     "name": "stderr",
     "output_type": "stream",
     "text": [
      "C:\\Users\\ADMIN\\AppData\\Local\\Temp\\ipykernel_17804\\551032289.py:1: UserWarning: pandas only supports SQLAlchemy connectable (engine/connection) or database string URI or sqlite3 DBAPI2 connection. Other DBAPI2 objects are not tested. Please consider using SQLAlchemy.\n",
      "  crime=pd.read_sql('select * from crime',conn)\n"
     ]
    }
   ],
   "source": [
    "crime=pd.read_sql('select * from crime',conn)\n",
    "print(crime)                  "
   ]
  },
  {
   "cell_type": "markdown",
   "id": "03f3debe-3f7b-43be-b0ba-495d0dcd77ed",
   "metadata": {},
   "source": [
    "## __3. Data Exploration:__"
   ]
  },
  {
   "cell_type": "markdown",
   "id": "b7dfdbe5-9f79-4973-94d0-3d5c4487edb1",
   "metadata": {},
   "source": [
    "### __3.1 Type of data in current format__"
   ]
  },
  {
   "cell_type": "code",
   "execution_count": 10,
   "id": "aec491b9-71db-4328-8934-1f01fdbd9fb0",
   "metadata": {},
   "outputs": [
    {
     "data": {
      "text/plain": [
       "pandas.core.frame.DataFrame"
      ]
     },
     "execution_count": 10,
     "metadata": {},
     "output_type": "execute_result"
    }
   ],
   "source": [
    "type(crime)"
   ]
  },
  {
   "cell_type": "markdown",
   "id": "796fea50-8e8c-4a50-891d-5ade73a1dc1c",
   "metadata": {},
   "source": [
    "### _Currently the imported data from mysql database is in pandas dataframe_"
   ]
  },
  {
   "cell_type": "markdown",
   "id": "8825c47a-6c4b-42ef-9a83-7ac83d014edf",
   "metadata": {},
   "source": [
    "### __3.2 Checking the head and tail of data frame to check the structure of the data__"
   ]
  },
  {
   "cell_type": "code",
   "execution_count": 11,
   "id": "a475806e-7d17-4a12-97e5-f5175543ca30",
   "metadata": {},
   "outputs": [
    {
     "data": {
      "text/html": [
       "<div>\n",
       "<style scoped>\n",
       "    .dataframe tbody tr th:only-of-type {\n",
       "        vertical-align: middle;\n",
       "    }\n",
       "\n",
       "    .dataframe tbody tr th {\n",
       "        vertical-align: top;\n",
       "    }\n",
       "\n",
       "    .dataframe thead th {\n",
       "        text-align: right;\n",
       "    }\n",
       "</style>\n",
       "<table border=\"1\" class=\"dataframe\">\n",
       "  <thead>\n",
       "    <tr style=\"text-align: right;\">\n",
       "      <th></th>\n",
       "      <th>DR_NO</th>\n",
       "      <th>Date_Rptd</th>\n",
       "      <th>DATE_OCC</th>\n",
       "      <th>AREA_NAME</th>\n",
       "      <th>Crm_Cd</th>\n",
       "      <th>Crm_Cd_Desc</th>\n",
       "      <th>Vict_Age</th>\n",
       "      <th>Vict_Sex</th>\n",
       "      <th>Premis_Desc</th>\n",
       "      <th>Status</th>\n",
       "      <th>Location</th>\n",
       "      <th>LAT</th>\n",
       "      <th>LON</th>\n",
       "    </tr>\n",
       "  </thead>\n",
       "  <tbody>\n",
       "    <tr>\n",
       "      <th>0</th>\n",
       "      <td>10304468</td>\n",
       "      <td>01-08-2020</td>\n",
       "      <td>01-08-2020</td>\n",
       "      <td>Southwest</td>\n",
       "      <td>624</td>\n",
       "      <td>BATTERY - SIMPLE ASSAULT</td>\n",
       "      <td>36</td>\n",
       "      <td>F</td>\n",
       "      <td>SINGLE FAMILY DWELLING</td>\n",
       "      <td>AO</td>\n",
       "      <td>1100 W 39TH PL</td>\n",
       "      <td>34.01</td>\n",
       "      <td>-118.30</td>\n",
       "    </tr>\n",
       "    <tr>\n",
       "      <th>1</th>\n",
       "      <td>190101086</td>\n",
       "      <td>01-02-2020</td>\n",
       "      <td>01-01-2020</td>\n",
       "      <td>Central</td>\n",
       "      <td>624</td>\n",
       "      <td>BATTERY - SIMPLE ASSAULT</td>\n",
       "      <td>25</td>\n",
       "      <td>M</td>\n",
       "      <td>SIDEWALK</td>\n",
       "      <td>IC</td>\n",
       "      <td>700 S HILL ST</td>\n",
       "      <td>34.05</td>\n",
       "      <td>-118.25</td>\n",
       "    </tr>\n",
       "    <tr>\n",
       "      <th>2</th>\n",
       "      <td>191501505</td>\n",
       "      <td>01-01-2020</td>\n",
       "      <td>01-01-2020</td>\n",
       "      <td>N Hollywood</td>\n",
       "      <td>745</td>\n",
       "      <td>VANDALISM - MISDEAMEANOR ($399 OR UNDER)</td>\n",
       "      <td>76</td>\n",
       "      <td>F</td>\n",
       "      <td>MULTI-UNIT DWELLING (APARTMENT, DUPLEX, ETC)</td>\n",
       "      <td>IC</td>\n",
       "      <td>5400 CORTEEN PL</td>\n",
       "      <td>34.17</td>\n",
       "      <td>-118.40</td>\n",
       "    </tr>\n",
       "    <tr>\n",
       "      <th>3</th>\n",
       "      <td>191921269</td>\n",
       "      <td>01-01-2020</td>\n",
       "      <td>01-01-2020</td>\n",
       "      <td>Mission</td>\n",
       "      <td>740</td>\n",
       "      <td>VANDALISM - FELONY ($400 &amp; OVER, ALL CHURCH VA...</td>\n",
       "      <td>31</td>\n",
       "      <td>X</td>\n",
       "      <td>BEAUTY SUPPLY STORE</td>\n",
       "      <td>IC</td>\n",
       "      <td>14400 TITUS ST</td>\n",
       "      <td>34.22</td>\n",
       "      <td>-118.45</td>\n",
       "    </tr>\n",
       "    <tr>\n",
       "      <th>4</th>\n",
       "      <td>200100502</td>\n",
       "      <td>01-02-2020</td>\n",
       "      <td>01-02-2020</td>\n",
       "      <td>Central</td>\n",
       "      <td>442</td>\n",
       "      <td>SHOPLIFTING - PETTY THEFT ($950 &amp; UNDER)</td>\n",
       "      <td>23</td>\n",
       "      <td>M</td>\n",
       "      <td>DEPARTMENT STORE</td>\n",
       "      <td>IC</td>\n",
       "      <td>700 S FIGUEROA ST</td>\n",
       "      <td>34.05</td>\n",
       "      <td>-118.26</td>\n",
       "    </tr>\n",
       "  </tbody>\n",
       "</table>\n",
       "</div>"
      ],
      "text/plain": [
       "       DR_NO   Date_Rptd    DATE_OCC    AREA_NAME  Crm_Cd  \\\n",
       "0   10304468  01-08-2020  01-08-2020    Southwest     624   \n",
       "1  190101086  01-02-2020  01-01-2020      Central     624   \n",
       "2  191501505  01-01-2020  01-01-2020  N Hollywood     745   \n",
       "3  191921269  01-01-2020  01-01-2020      Mission     740   \n",
       "4  200100502  01-02-2020  01-02-2020      Central     442   \n",
       "\n",
       "                                         Crm_Cd_Desc  Vict_Age Vict_Sex  \\\n",
       "0                           BATTERY - SIMPLE ASSAULT        36        F   \n",
       "1                           BATTERY - SIMPLE ASSAULT        25        M   \n",
       "2           VANDALISM - MISDEAMEANOR ($399 OR UNDER)        76        F   \n",
       "3  VANDALISM - FELONY ($400 & OVER, ALL CHURCH VA...        31        X   \n",
       "4           SHOPLIFTING - PETTY THEFT ($950 & UNDER)        23        M   \n",
       "\n",
       "                                    Premis_Desc Status           Location  \\\n",
       "0                        SINGLE FAMILY DWELLING     AO     1100 W 39TH PL   \n",
       "1                                      SIDEWALK     IC      700 S HILL ST   \n",
       "2  MULTI-UNIT DWELLING (APARTMENT, DUPLEX, ETC)     IC    5400 CORTEEN PL   \n",
       "3                           BEAUTY SUPPLY STORE     IC     14400 TITUS ST   \n",
       "4                              DEPARTMENT STORE     IC  700 S FIGUEROA ST   \n",
       "\n",
       "     LAT     LON  \n",
       "0  34.01 -118.30  \n",
       "1  34.05 -118.25  \n",
       "2  34.17 -118.40  \n",
       "3  34.22 -118.45  \n",
       "4  34.05 -118.26  "
      ]
     },
     "execution_count": 11,
     "metadata": {},
     "output_type": "execute_result"
    }
   ],
   "source": [
    "crime.head()"
   ]
  },
  {
   "cell_type": "code",
   "execution_count": 12,
   "id": "24254af8-1d52-4037-a202-33a634e923a4",
   "metadata": {},
   "outputs": [
    {
     "data": {
      "text/html": [
       "<div>\n",
       "<style scoped>\n",
       "    .dataframe tbody tr th:only-of-type {\n",
       "        vertical-align: middle;\n",
       "    }\n",
       "\n",
       "    .dataframe tbody tr th {\n",
       "        vertical-align: top;\n",
       "    }\n",
       "\n",
       "    .dataframe thead th {\n",
       "        text-align: right;\n",
       "    }\n",
       "</style>\n",
       "<table border=\"1\" class=\"dataframe\">\n",
       "  <thead>\n",
       "    <tr style=\"text-align: right;\">\n",
       "      <th></th>\n",
       "      <th>DR_NO</th>\n",
       "      <th>Date_Rptd</th>\n",
       "      <th>DATE_OCC</th>\n",
       "      <th>AREA_NAME</th>\n",
       "      <th>Crm_Cd</th>\n",
       "      <th>Crm_Cd_Desc</th>\n",
       "      <th>Vict_Age</th>\n",
       "      <th>Vict_Sex</th>\n",
       "      <th>Premis_Desc</th>\n",
       "      <th>Status</th>\n",
       "      <th>Location</th>\n",
       "      <th>LAT</th>\n",
       "      <th>LON</th>\n",
       "    </tr>\n",
       "  </thead>\n",
       "  <tbody>\n",
       "    <tr>\n",
       "      <th>494</th>\n",
       "      <td>200106614</td>\n",
       "      <td>02-07-2020</td>\n",
       "      <td>02-07-2020</td>\n",
       "      <td>Central</td>\n",
       "      <td>624</td>\n",
       "      <td>BATTERY - SIMPLE ASSAULT</td>\n",
       "      <td>33</td>\n",
       "      <td>M</td>\n",
       "      <td>SIDEWALK</td>\n",
       "      <td>IC</td>\n",
       "      <td>2400 ELLENDALE PL</td>\n",
       "      <td>34.05</td>\n",
       "      <td>-118.26</td>\n",
       "    </tr>\n",
       "    <tr>\n",
       "      <th>495</th>\n",
       "      <td>200106615</td>\n",
       "      <td>02-07-2020</td>\n",
       "      <td>02-07-2020</td>\n",
       "      <td>Central</td>\n",
       "      <td>624</td>\n",
       "      <td>BATTERY - SIMPLE ASSAULT</td>\n",
       "      <td>25</td>\n",
       "      <td>M</td>\n",
       "      <td>SIDEWALK</td>\n",
       "      <td>IC</td>\n",
       "      <td>39TH PL</td>\n",
       "      <td>34.05</td>\n",
       "      <td>-118.26</td>\n",
       "    </tr>\n",
       "    <tr>\n",
       "      <th>496</th>\n",
       "      <td>200106616</td>\n",
       "      <td>02-07-2020</td>\n",
       "      <td>02-07-2020</td>\n",
       "      <td>Central</td>\n",
       "      <td>624</td>\n",
       "      <td>BATTERY - SIMPLE ASSAULT</td>\n",
       "      <td>35</td>\n",
       "      <td>M</td>\n",
       "      <td>OTHER STORE</td>\n",
       "      <td>IC</td>\n",
       "      <td>2500 W VERNON AV</td>\n",
       "      <td>34.05</td>\n",
       "      <td>-118.25</td>\n",
       "    </tr>\n",
       "    <tr>\n",
       "      <th>497</th>\n",
       "      <td>200106617</td>\n",
       "      <td>02-07-2020</td>\n",
       "      <td>01-10-2020</td>\n",
       "      <td>Central</td>\n",
       "      <td>510</td>\n",
       "      <td>VEHICLE - STOLEN</td>\n",
       "      <td>0</td>\n",
       "      <td>F</td>\n",
       "      <td>PARKING LOT</td>\n",
       "      <td>IC</td>\n",
       "      <td>700 EXPOSITION BL</td>\n",
       "      <td>34.05</td>\n",
       "      <td>-118.25</td>\n",
       "    </tr>\n",
       "    <tr>\n",
       "      <th>498</th>\n",
       "      <td>200106618</td>\n",
       "      <td>02-07-2020</td>\n",
       "      <td>02-03-2020</td>\n",
       "      <td>Central</td>\n",
       "      <td>745</td>\n",
       "      <td>VANDALISM - MISDEAMEANOR ($399 OR UNDER)</td>\n",
       "      <td>72</td>\n",
       "      <td>M</td>\n",
       "      <td>VEHICLE, PASSENGER/TRUCK</td>\n",
       "      <td>IC</td>\n",
       "      <td>2600 S FIGUEROA ST</td>\n",
       "      <td>34.05</td>\n",
       "      <td>-118.24</td>\n",
       "    </tr>\n",
       "  </tbody>\n",
       "</table>\n",
       "</div>"
      ],
      "text/plain": [
       "         DR_NO   Date_Rptd    DATE_OCC AREA_NAME  Crm_Cd  \\\n",
       "494  200106614  02-07-2020  02-07-2020   Central     624   \n",
       "495  200106615  02-07-2020  02-07-2020   Central     624   \n",
       "496  200106616  02-07-2020  02-07-2020   Central     624   \n",
       "497  200106617  02-07-2020  01-10-2020   Central     510   \n",
       "498  200106618  02-07-2020  02-03-2020   Central     745   \n",
       "\n",
       "                                  Crm_Cd_Desc  Vict_Age Vict_Sex  \\\n",
       "494                  BATTERY - SIMPLE ASSAULT        33        M   \n",
       "495                  BATTERY - SIMPLE ASSAULT        25        M   \n",
       "496                  BATTERY - SIMPLE ASSAULT        35        M   \n",
       "497                          VEHICLE - STOLEN         0        F   \n",
       "498  VANDALISM - MISDEAMEANOR ($399 OR UNDER)        72        M   \n",
       "\n",
       "                  Premis_Desc Status            Location    LAT     LON  \n",
       "494                  SIDEWALK     IC   2400 ELLENDALE PL  34.05 -118.26  \n",
       "495                  SIDEWALK     IC             39TH PL  34.05 -118.26  \n",
       "496               OTHER STORE     IC    2500 W VERNON AV  34.05 -118.25  \n",
       "497               PARKING LOT     IC   700 EXPOSITION BL  34.05 -118.25  \n",
       "498  VEHICLE, PASSENGER/TRUCK     IC  2600 S FIGUEROA ST  34.05 -118.24  "
      ]
     },
     "execution_count": 12,
     "metadata": {},
     "output_type": "execute_result"
    }
   ],
   "source": [
    "crime.tail()"
   ]
  },
  {
   "cell_type": "markdown",
   "id": "14265e12-ffc1-44f8-b3b3-0e007dba6965",
   "metadata": {},
   "source": [
    "### _My infer from the above structure the data is in ascending order based DR_NO. <br> DR_NO(Division of record number) is considered as primary key_"
   ]
  },
  {
   "cell_type": "markdown",
   "id": "3399759e-2f06-487f-a2b5-543a2edaf2d3",
   "metadata": {},
   "source": [
    "### __3.3 Total no of records(rows)__"
   ]
  },
  {
   "cell_type": "code",
   "execution_count": 13,
   "id": "1101aa49-99c3-4759-96c4-a9107050e889",
   "metadata": {},
   "outputs": [
    {
     "name": "stdout",
     "output_type": "stream",
     "text": [
      "Total number of rows in crime dataframe is 499\n"
     ]
    }
   ],
   "source": [
    "total_no_rows=crime.shape[0]\n",
    "print(f\"Total number of rows in crime dataframe is {total_no_rows}\")"
   ]
  },
  {
   "cell_type": "markdown",
   "id": "db35a584-de4e-4941-aa88-ae7c4772e734",
   "metadata": {},
   "source": [
    "### __3.4 Total no of Columns__"
   ]
  },
  {
   "cell_type": "code",
   "execution_count": 14,
   "id": "d9e150aa-44bf-4045-a45e-d705e2da9e05",
   "metadata": {},
   "outputs": [
    {
     "name": "stdout",
     "output_type": "stream",
     "text": [
      "Total number of columns in crime dataframe is 13\n"
     ]
    }
   ],
   "source": [
    "total_no_columns=crime.shape[1]\n",
    "print(f\"Total number of columns in crime dataframe is {total_no_columns}\")"
   ]
  },
  {
   "cell_type": "markdown",
   "id": "8ab9a207-2e12-480b-b548-67ca977d5c6a",
   "metadata": {},
   "source": [
    "### __3.5 Information about the data set__"
   ]
  },
  {
   "cell_type": "code",
   "execution_count": 15,
   "id": "4e9ab51e-3e28-4b55-b5e5-a0687f5d3c2e",
   "metadata": {},
   "outputs": [
    {
     "name": "stdout",
     "output_type": "stream",
     "text": [
      "<class 'pandas.core.frame.DataFrame'>\n",
      "RangeIndex: 499 entries, 0 to 498\n",
      "Data columns (total 13 columns):\n",
      " #   Column       Non-Null Count  Dtype  \n",
      "---  ------       --------------  -----  \n",
      " 0   DR_NO        499 non-null    int64  \n",
      " 1   Date_Rptd    499 non-null    object \n",
      " 2   DATE_OCC     499 non-null    object \n",
      " 3   AREA_NAME    499 non-null    object \n",
      " 4   Crm_Cd       499 non-null    int64  \n",
      " 5   Crm_Cd_Desc  499 non-null    object \n",
      " 6   Vict_Age     499 non-null    int64  \n",
      " 7   Vict_Sex     499 non-null    object \n",
      " 8   Premis_Desc  499 non-null    object \n",
      " 9   Status       499 non-null    object \n",
      " 10  Location     499 non-null    object \n",
      " 11  LAT          499 non-null    float64\n",
      " 12  LON          499 non-null    float64\n",
      "dtypes: float64(2), int64(3), object(8)\n",
      "memory usage: 50.8+ KB\n"
     ]
    }
   ],
   "source": [
    "crime.info()"
   ]
  },
  {
   "cell_type": "markdown",
   "id": "08a845f6-1a58-4e59-ac08-71b66786868c",
   "metadata": {},
   "source": [
    "###  _From above information we get no of rows,columns,column name,datatype of each column,<br> Its very important to look that every column is considered as not to have null values._"
   ]
  },
  {
   "cell_type": "markdown",
   "id": "81f9b81e-0bbf-44f8-baa6-e39a723055f9",
   "metadata": {},
   "source": [
    "### __3.6 Checking null values in dataframe__"
   ]
  },
  {
   "cell_type": "code",
   "execution_count": 16,
   "id": "5b2697d5-143f-4865-9e00-b46abf19cc29",
   "metadata": {},
   "outputs": [
    {
     "name": "stdout",
     "output_type": "stream",
     "text": [
      "DR_NO          0\n",
      "Date_Rptd      0\n",
      "DATE_OCC       0\n",
      "AREA_NAME      0\n",
      "Crm_Cd         0\n",
      "Crm_Cd_Desc    0\n",
      "Vict_Age       0\n",
      "Vict_Sex       0\n",
      "Premis_Desc    0\n",
      "Status         0\n",
      "Location       0\n",
      "LAT            0\n",
      "LON            0\n",
      "dtype: int64\n"
     ]
    }
   ],
   "source": [
    "null_values=crime.isnull().sum()\n",
    "print(null_values)"
   ]
  },
  {
   "cell_type": "code",
   "execution_count": 17,
   "id": "2179d3a0-5c5c-45bf-8739-f1ff38853765",
   "metadata": {},
   "outputs": [],
   "source": [
    "crime.replace('', np.nan, inplace=True)"
   ]
  },
  {
   "cell_type": "code",
   "execution_count": 18,
   "id": "e80e75df-9448-497a-aba9-d135c9d971a2",
   "metadata": {},
   "outputs": [
    {
     "name": "stdout",
     "output_type": "stream",
     "text": [
      "DR_NO           0\n",
      "Date_Rptd       0\n",
      "DATE_OCC        0\n",
      "AREA_NAME       0\n",
      "Crm_Cd          0\n",
      "Crm_Cd_Desc     0\n",
      "Vict_Age        0\n",
      "Vict_Sex       27\n",
      "Premis_Desc     0\n",
      "Status          0\n",
      "Location        0\n",
      "LAT             0\n",
      "LON             0\n",
      "dtype: int64\n"
     ]
    }
   ],
   "source": [
    "null_values=crime.isnull().sum()\n",
    "print(null_values)"
   ]
  },
  {
   "cell_type": "code",
   "execution_count": 19,
   "id": "77a3d33d-2f04-4e90-82e6-18d31ecab2ce",
   "metadata": {},
   "outputs": [],
   "source": [
    "crime['Vict_Sex'].fillna('X', inplace=True)"
   ]
  },
  {
   "cell_type": "code",
   "execution_count": 20,
   "id": "dac5b999-4661-4309-9fa8-4e6e3f2dc859",
   "metadata": {},
   "outputs": [
    {
     "name": "stdout",
     "output_type": "stream",
     "text": [
      "DR_NO          0\n",
      "Date_Rptd      0\n",
      "DATE_OCC       0\n",
      "AREA_NAME      0\n",
      "Crm_Cd         0\n",
      "Crm_Cd_Desc    0\n",
      "Vict_Age       0\n",
      "Vict_Sex       0\n",
      "Premis_Desc    0\n",
      "Status         0\n",
      "Location       0\n",
      "LAT            0\n",
      "LON            0\n",
      "dtype: int64\n"
     ]
    }
   ],
   "source": [
    "null_values=crime.isnull().sum()\n",
    "print(null_values)"
   ]
  },
  {
   "cell_type": "markdown",
   "id": "1e057bce-36b0-40de-9b86-b3af88195909",
   "metadata": {},
   "source": [
    "### _It infers there is no null values in the dataframe_"
   ]
  },
  {
   "cell_type": "markdown",
   "id": "d444945d-807b-4c26-9bae-e31fedc2c6e2",
   "metadata": {},
   "source": [
    "### __3.7 Describing data for statistical analysis__ "
   ]
  },
  {
   "cell_type": "code",
   "execution_count": 21,
   "id": "ae186154-7bbf-4ca8-988f-16c74aa4bbf1",
   "metadata": {},
   "outputs": [
    {
     "data": {
      "text/html": [
       "<div>\n",
       "<style scoped>\n",
       "    .dataframe tbody tr th:only-of-type {\n",
       "        vertical-align: middle;\n",
       "    }\n",
       "\n",
       "    .dataframe tbody tr th {\n",
       "        vertical-align: top;\n",
       "    }\n",
       "\n",
       "    .dataframe thead th {\n",
       "        text-align: right;\n",
       "    }\n",
       "</style>\n",
       "<table border=\"1\" class=\"dataframe\">\n",
       "  <thead>\n",
       "    <tr style=\"text-align: right;\">\n",
       "      <th></th>\n",
       "      <th>count</th>\n",
       "      <th>unique</th>\n",
       "      <th>top</th>\n",
       "      <th>freq</th>\n",
       "      <th>mean</th>\n",
       "      <th>std</th>\n",
       "      <th>min</th>\n",
       "      <th>25%</th>\n",
       "      <th>50%</th>\n",
       "      <th>75%</th>\n",
       "      <th>max</th>\n",
       "    </tr>\n",
       "  </thead>\n",
       "  <tbody>\n",
       "    <tr>\n",
       "      <th>DR_NO</th>\n",
       "      <td>499.0</td>\n",
       "      <td>NaN</td>\n",
       "      <td>NaN</td>\n",
       "      <td>NaN</td>\n",
       "      <td>199993017.697395</td>\n",
       "      <td>8742243.166764</td>\n",
       "      <td>10304468.0</td>\n",
       "      <td>200104383.5</td>\n",
       "      <td>200104775.0</td>\n",
       "      <td>200106417.0</td>\n",
       "      <td>222013040.0</td>\n",
       "    </tr>\n",
       "    <tr>\n",
       "      <th>Date_Rptd</th>\n",
       "      <td>499</td>\n",
       "      <td>68</td>\n",
       "      <td>01-11-2020</td>\n",
       "      <td>42</td>\n",
       "      <td>NaN</td>\n",
       "      <td>NaN</td>\n",
       "      <td>NaN</td>\n",
       "      <td>NaN</td>\n",
       "      <td>NaN</td>\n",
       "      <td>NaN</td>\n",
       "      <td>NaN</td>\n",
       "    </tr>\n",
       "    <tr>\n",
       "      <th>DATE_OCC</th>\n",
       "      <td>499</td>\n",
       "      <td>61</td>\n",
       "      <td>01-11-2020</td>\n",
       "      <td>38</td>\n",
       "      <td>NaN</td>\n",
       "      <td>NaN</td>\n",
       "      <td>NaN</td>\n",
       "      <td>NaN</td>\n",
       "      <td>NaN</td>\n",
       "      <td>NaN</td>\n",
       "      <td>NaN</td>\n",
       "    </tr>\n",
       "    <tr>\n",
       "      <th>AREA_NAME</th>\n",
       "      <td>499</td>\n",
       "      <td>19</td>\n",
       "      <td>Central</td>\n",
       "      <td>423</td>\n",
       "      <td>NaN</td>\n",
       "      <td>NaN</td>\n",
       "      <td>NaN</td>\n",
       "      <td>NaN</td>\n",
       "      <td>NaN</td>\n",
       "      <td>NaN</td>\n",
       "      <td>NaN</td>\n",
       "    </tr>\n",
       "    <tr>\n",
       "      <th>Crm_Cd</th>\n",
       "      <td>499.0</td>\n",
       "      <td>NaN</td>\n",
       "      <td>NaN</td>\n",
       "      <td>NaN</td>\n",
       "      <td>504.178357</td>\n",
       "      <td>198.381863</td>\n",
       "      <td>210.0</td>\n",
       "      <td>330.0</td>\n",
       "      <td>442.0</td>\n",
       "      <td>624.0</td>\n",
       "      <td>956.0</td>\n",
       "    </tr>\n",
       "    <tr>\n",
       "      <th>Crm_Cd_Desc</th>\n",
       "      <td>499</td>\n",
       "      <td>42</td>\n",
       "      <td>BURGLARY FROM VEHICLE</td>\n",
       "      <td>82</td>\n",
       "      <td>NaN</td>\n",
       "      <td>NaN</td>\n",
       "      <td>NaN</td>\n",
       "      <td>NaN</td>\n",
       "      <td>NaN</td>\n",
       "      <td>NaN</td>\n",
       "      <td>NaN</td>\n",
       "    </tr>\n",
       "    <tr>\n",
       "      <th>Vict_Age</th>\n",
       "      <td>499.0</td>\n",
       "      <td>NaN</td>\n",
       "      <td>NaN</td>\n",
       "      <td>NaN</td>\n",
       "      <td>32.142285</td>\n",
       "      <td>20.202136</td>\n",
       "      <td>0.0</td>\n",
       "      <td>23.0</td>\n",
       "      <td>31.0</td>\n",
       "      <td>46.5</td>\n",
       "      <td>78.0</td>\n",
       "    </tr>\n",
       "    <tr>\n",
       "      <th>Vict_Sex</th>\n",
       "      <td>499</td>\n",
       "      <td>3</td>\n",
       "      <td>M</td>\n",
       "      <td>278</td>\n",
       "      <td>NaN</td>\n",
       "      <td>NaN</td>\n",
       "      <td>NaN</td>\n",
       "      <td>NaN</td>\n",
       "      <td>NaN</td>\n",
       "      <td>NaN</td>\n",
       "      <td>NaN</td>\n",
       "    </tr>\n",
       "    <tr>\n",
       "      <th>Premis_Desc</th>\n",
       "      <td>499</td>\n",
       "      <td>67</td>\n",
       "      <td>STREET</td>\n",
       "      <td>105</td>\n",
       "      <td>NaN</td>\n",
       "      <td>NaN</td>\n",
       "      <td>NaN</td>\n",
       "      <td>NaN</td>\n",
       "      <td>NaN</td>\n",
       "      <td>NaN</td>\n",
       "      <td>NaN</td>\n",
       "    </tr>\n",
       "    <tr>\n",
       "      <th>Status</th>\n",
       "      <td>499</td>\n",
       "      <td>4</td>\n",
       "      <td>IC</td>\n",
       "      <td>447</td>\n",
       "      <td>NaN</td>\n",
       "      <td>NaN</td>\n",
       "      <td>NaN</td>\n",
       "      <td>NaN</td>\n",
       "      <td>NaN</td>\n",
       "      <td>NaN</td>\n",
       "      <td>NaN</td>\n",
       "    </tr>\n",
       "    <tr>\n",
       "      <th>Location</th>\n",
       "      <td>499</td>\n",
       "      <td>365</td>\n",
       "      <td>800 N ALAMEDA ST</td>\n",
       "      <td>14</td>\n",
       "      <td>NaN</td>\n",
       "      <td>NaN</td>\n",
       "      <td>NaN</td>\n",
       "      <td>NaN</td>\n",
       "      <td>NaN</td>\n",
       "      <td>NaN</td>\n",
       "      <td>NaN</td>\n",
       "    </tr>\n",
       "    <tr>\n",
       "      <th>LAT</th>\n",
       "      <td>499.0</td>\n",
       "      <td>NaN</td>\n",
       "      <td>NaN</td>\n",
       "      <td>NaN</td>\n",
       "      <td>34.047335</td>\n",
       "      <td>0.05384</td>\n",
       "      <td>33.71</td>\n",
       "      <td>34.04</td>\n",
       "      <td>34.05</td>\n",
       "      <td>34.05</td>\n",
       "      <td>34.28</td>\n",
       "    </tr>\n",
       "    <tr>\n",
       "      <th>LON</th>\n",
       "      <td>499.0</td>\n",
       "      <td>NaN</td>\n",
       "      <td>NaN</td>\n",
       "      <td>NaN</td>\n",
       "      <td>-118.261283</td>\n",
       "      <td>0.04156</td>\n",
       "      <td>-118.56</td>\n",
       "      <td>-118.26</td>\n",
       "      <td>-118.25</td>\n",
       "      <td>-118.24</td>\n",
       "      <td>-118.19</td>\n",
       "    </tr>\n",
       "  </tbody>\n",
       "</table>\n",
       "</div>"
      ],
      "text/plain": [
       "             count unique                    top freq              mean  \\\n",
       "DR_NO        499.0    NaN                    NaN  NaN  199993017.697395   \n",
       "Date_Rptd      499     68             01-11-2020   42               NaN   \n",
       "DATE_OCC       499     61             01-11-2020   38               NaN   \n",
       "AREA_NAME      499     19                Central  423               NaN   \n",
       "Crm_Cd       499.0    NaN                    NaN  NaN        504.178357   \n",
       "Crm_Cd_Desc    499     42  BURGLARY FROM VEHICLE   82               NaN   \n",
       "Vict_Age     499.0    NaN                    NaN  NaN         32.142285   \n",
       "Vict_Sex       499      3                      M  278               NaN   \n",
       "Premis_Desc    499     67                 STREET  105               NaN   \n",
       "Status         499      4                     IC  447               NaN   \n",
       "Location       499    365       800 N ALAMEDA ST   14               NaN   \n",
       "LAT          499.0    NaN                    NaN  NaN         34.047335   \n",
       "LON          499.0    NaN                    NaN  NaN       -118.261283   \n",
       "\n",
       "                        std         min          25%          50%  \\\n",
       "DR_NO        8742243.166764  10304468.0  200104383.5  200104775.0   \n",
       "Date_Rptd               NaN         NaN          NaN          NaN   \n",
       "DATE_OCC                NaN         NaN          NaN          NaN   \n",
       "AREA_NAME               NaN         NaN          NaN          NaN   \n",
       "Crm_Cd           198.381863       210.0        330.0        442.0   \n",
       "Crm_Cd_Desc             NaN         NaN          NaN          NaN   \n",
       "Vict_Age          20.202136         0.0         23.0         31.0   \n",
       "Vict_Sex                NaN         NaN          NaN          NaN   \n",
       "Premis_Desc             NaN         NaN          NaN          NaN   \n",
       "Status                  NaN         NaN          NaN          NaN   \n",
       "Location                NaN         NaN          NaN          NaN   \n",
       "LAT                 0.05384       33.71        34.04        34.05   \n",
       "LON                 0.04156     -118.56      -118.26      -118.25   \n",
       "\n",
       "                     75%          max  \n",
       "DR_NO        200106417.0  222013040.0  \n",
       "Date_Rptd            NaN          NaN  \n",
       "DATE_OCC             NaN          NaN  \n",
       "AREA_NAME            NaN          NaN  \n",
       "Crm_Cd             624.0        956.0  \n",
       "Crm_Cd_Desc          NaN          NaN  \n",
       "Vict_Age            46.5         78.0  \n",
       "Vict_Sex             NaN          NaN  \n",
       "Premis_Desc          NaN          NaN  \n",
       "Status               NaN          NaN  \n",
       "Location             NaN          NaN  \n",
       "LAT                34.05        34.28  \n",
       "LON              -118.24      -118.19  "
      ]
     },
     "execution_count": 21,
     "metadata": {},
     "output_type": "execute_result"
    }
   ],
   "source": [
    "crime.describe(include='all').T"
   ]
  },
  {
   "cell_type": "markdown",
   "id": "862def4b-dcb0-41c5-adcc-8e9c7e1d4842",
   "metadata": {},
   "source": [
    "### __3.8 Size, as the name suggests, returns the size of a dataframe<br>which is the number of rows multiplied by the number of columns.__"
   ]
  },
  {
   "cell_type": "code",
   "execution_count": 22,
   "id": "17a43526-4842-4c04-a836-9287875f157a",
   "metadata": {},
   "outputs": [
    {
     "data": {
      "text/plain": [
       "6487"
      ]
     },
     "execution_count": 22,
     "metadata": {},
     "output_type": "execute_result"
    }
   ],
   "source": [
    "crime.size"
   ]
  },
  {
   "cell_type": "markdown",
   "id": "5a39789a-974a-4cd9-8bff-b2d3cccd0c06",
   "metadata": {},
   "source": [
    "### __3.9 no of unique values in each column__"
   ]
  },
  {
   "cell_type": "code",
   "execution_count": 23,
   "id": "a84cdfb1-8757-4b2c-8831-d05cdd6611dc",
   "metadata": {},
   "outputs": [
    {
     "data": {
      "text/plain": [
       "DR_NO          499\n",
       "Date_Rptd       68\n",
       "DATE_OCC        61\n",
       "AREA_NAME       19\n",
       "Crm_Cd          42\n",
       "Crm_Cd_Desc     42\n",
       "Vict_Age        66\n",
       "Vict_Sex         3\n",
       "Premis_Desc     67\n",
       "Status           4\n",
       "Location       365\n",
       "LAT             35\n",
       "LON             29\n",
       "dtype: int64"
      ]
     },
     "execution_count": 23,
     "metadata": {},
     "output_type": "execute_result"
    }
   ],
   "source": [
    "crime.nunique()"
   ]
  },
  {
   "cell_type": "markdown",
   "id": "7d11a721-1416-45f0-925f-56286fac7c92",
   "metadata": {},
   "source": [
    "### _From the above inference DR_NO is having full unique values, That is considered as primary key._"
   ]
  },
  {
   "cell_type": "markdown",
   "id": "0dac2f46-d159-4b44-b1c0-3a3421f751ad",
   "metadata": {},
   "source": [
    "### __3.10 Distinct crime codes and their descriptions__"
   ]
  },
  {
   "cell_type": "code",
   "execution_count": 24,
   "id": "19b35325-dc97-402c-be44-0fed5fce2a0c",
   "metadata": {},
   "outputs": [
    {
     "name": "stdout",
     "output_type": "stream",
     "text": [
      "     Crm_Cd                                        Crm_Cd_Desc\n",
      "42      210                                            ROBBERY\n",
      "174     220                                  ATTEMPTED ROBBERY\n",
      "14      230     ASSAULT WITH DEADLY WEAPON, AGGRAVATED ASSAULT\n",
      "22      310                                           BURGLARY\n",
      "249     320                                BURGLARY, ATTEMPTED\n",
      "7       330                              BURGLARY FROM VEHICLE\n",
      "6       341  THEFT-GRAND ($950.01 & OVER)EXCPT,GUNS,FOWL,LI...\n",
      "466     343           SHOPLIFTING-GRAND THEFT ($950.01 & OVER)\n",
      "19      350                                      THEFT, PERSON\n",
      "312     351                                    PURSE SNATCHING\n",
      "12      354                                  THEFT OF IDENTITY\n",
      "75      420    THEFT FROM MOTOR VEHICLE - PETTY ($950 & UNDER)\n",
      "117     421                 THEFT FROM MOTOR VEHICLE - ATTEMPT\n",
      "29      440                 THEFT PLAIN - PETTY ($950 & UNDER)\n",
      "4       442           SHOPLIFTING - PETTY THEFT ($950 & UNDER)\n",
      "25      480                                      BIKE - STOLEN\n",
      "38      510                                   VEHICLE - STOLEN\n",
      "27      623                            BATTERY POLICE (SIMPLE)\n",
      "0       624                           BATTERY - SIMPLE ASSAULT\n",
      "176     625                                      OTHER ASSAULT\n",
      "122     647                  THROWING OBJECT AT MOVING VEHICLE\n",
      "10      648                                              ARSON\n",
      "212     649                   DOCUMENT FORGERY / STOLEN FELONY\n",
      "143     662                                 BUNCO, GRAND THEFT\n",
      "431     666                                     BUNCO, ATTEMPT\n",
      "3       740  VANDALISM - FELONY ($400 & OVER, ALL CHURCH VA...\n",
      "2       745           VANDALISM - MISDEAMEANOR ($399 OR UNDER)\n",
      "178     755                                         BOMB SCARE\n",
      "17      761                                    BRANDISH WEAPON\n",
      "341     812  CRM AGNST CHLD (13 OR UNDER) (14-15 & SUSP 10 ...\n",
      "329     820                                    ORAL COPULATION\n",
      "424     850                                  INDECENT EXPOSURE\n",
      "89      886                               DISTURBING THE PEACE\n",
      "51      888                                        TRESPASSING\n",
      "310     890                                   FAILURE TO YIELD\n",
      "46      900                           VIOLATION OF COURT ORDER\n",
      "214     901                     VIOLATION OF RESTRAINING ORDER\n",
      "399     920                         KIDNAPPING - GRAND ATTEMPT\n",
      "8       930             CRIMINAL THREATS - NO WEAPON DISPLAYED\n",
      "129     940                                          EXTORTION\n",
      "5       946                          OTHER MISCELLANEOUS CRIME\n",
      "317     956            LETTERS, LEWD  -  TELEPHONE CALLS, LEWD\n"
     ]
    }
   ],
   "source": [
    "cr_values=crime[['Crm_Cd','Crm_Cd_Desc']].drop_duplicates()\n",
    "cr_sort=cr_values.sort_values(by='Crm_Cd')\n",
    "print(cr_sort)"
   ]
  },
  {
   "cell_type": "markdown",
   "id": "650ee184-1156-4364-94fb-8f79e4d714c2",
   "metadata": {},
   "source": [
    "## __4. Temporal Analysis__"
   ]
  },
  {
   "cell_type": "markdown",
   "id": "8c6232c1-870b-4c21-b172-cd66ece5c6b6",
   "metadata": {},
   "source": [
    "### __Temporal Analysis: Temporal analysis involves examining how crime rates vary over time.<br>Analysts may analyze trends on a daily, weekly, monthly, or yearly basis to identify seasonal patterns,recurring events, or spikes in criminal activities.__\n"
   ]
  },
  {
   "cell_type": "code",
   "execution_count": 25,
   "id": "5195c6ca-7af6-4352-bcfc-0dcda65fdd52",
   "metadata": {},
   "outputs": [
    {
     "data": {
      "text/plain": [
       "Index(['DR_NO', 'Date_Rptd', 'DATE_OCC', 'AREA_NAME', 'Crm_Cd', 'Crm_Cd_Desc',\n",
       "       'Vict_Age', 'Vict_Sex', 'Premis_Desc', 'Status', 'Location', 'LAT',\n",
       "       'LON'],\n",
       "      dtype='object')"
      ]
     },
     "execution_count": 25,
     "metadata": {},
     "output_type": "execute_result"
    }
   ],
   "source": [
    "crime.columns"
   ]
  },
  {
   "cell_type": "markdown",
   "id": "b3e0b4b4-611d-4d6d-aa4c-c4a6fc1f3871",
   "metadata": {},
   "source": [
    "### __4.1 No of days between crime occured and crime reported__"
   ]
  },
  {
   "cell_type": "code",
   "execution_count": 26,
   "id": "5f09257c-effb-4a12-8b71-4e283fa652ba",
   "metadata": {},
   "outputs": [
    {
     "name": "stdout",
     "output_type": "stream",
     "text": [
      "      DATE_OCC  Date_Rptd  Difference_In_Days\n",
      "0   2020-01-08 2020-01-08                   0\n",
      "1   2020-01-01 2020-01-02                   1\n",
      "2   2020-01-01 2020-01-01                   0\n",
      "3   2020-01-01 2020-01-01                   0\n",
      "4   2020-01-02 2020-01-02                   0\n",
      "..         ...        ...                 ...\n",
      "494 2020-02-07 2020-02-07                   0\n",
      "495 2020-02-07 2020-02-07                   0\n",
      "496 2020-02-07 2020-02-07                   0\n",
      "497 2020-01-10 2020-02-07                  28\n",
      "498 2020-02-03 2020-02-07                   4\n",
      "\n",
      "[499 rows x 3 columns]\n"
     ]
    }
   ],
   "source": [
    "\n",
    "df=crime.loc[:,['DATE_OCC','Date_Rptd']]\n",
    "#print(df.head())\n",
    "df['DATE_OCC'] = pd.to_datetime(df['DATE_OCC'])\n",
    "df['Date_Rptd'] = pd.to_datetime(df['Date_Rptd'])\n",
    "df['Difference_In_Days'] = (df['Date_Rptd'] - df['DATE_OCC']).dt.days\n",
    "\n",
    "# Display the DataFrame with the calculated difference\n",
    "print(df)"
   ]
  },
  {
   "cell_type": "markdown",
   "id": "9e63568e-0300-4a64-bdfd-5bddecd467f2",
   "metadata": {},
   "source": [
    "###  __Question 1 <br> Spatial Analysis: <br> Where are the geographical hotspots for reported crimes?__ "
   ]
  },
  {
   "cell_type": "code",
   "execution_count": 27,
   "id": "3891389d-4d13-4338-a1f4-c6aceb5712e2",
   "metadata": {},
   "outputs": [
    {
     "name": "stdout",
     "output_type": "stream",
     "text": [
      "      LAT     LON  crime_count\n",
      "32  34.05 -118.26           95\n",
      "33  34.05 -118.25           75\n",
      "24  34.04 -118.25           47\n",
      "41  34.06 -118.24           43\n",
      "34  34.05 -118.24           39\n",
      "23  34.04 -118.26           38\n",
      "25  34.04 -118.24           24\n",
      "22  34.04 -118.27           21\n",
      "47  34.07 -118.23            7\n",
      "42  34.06 -118.23            6\n",
      "32    34.05\n",
      "33    34.05\n",
      "24    34.04\n",
      "41    34.06\n",
      "34    34.05\n",
      "23    34.04\n",
      "25    34.04\n",
      "22    34.04\n",
      "47    34.07\n",
      "42    34.06\n",
      "Name: LAT, dtype: float64\n"
     ]
    }
   ],
   "source": [
    "crime_counts = crime.groupby(['LAT','LON']).size().reset_index(name='crime_count')\n",
    "#print(crime_counts)\n",
    "hotspots = crime_counts.sort_values(by='crime_count',ascending=False)\n",
    "#print(hotspots)\n",
    "top_hotspots = hotspots.head(10)\n",
    "print(top_hotspots)\n",
    "a=top_hotspots['LAT']\n",
    "print(a)"
   ]
  },
  {
   "cell_type": "code",
   "execution_count": 28,
   "id": "05910f9a-c03e-45ac-b314-f00839d203bc",
   "metadata": {},
   "outputs": [
    {
     "ename": "ModuleNotFoundError",
     "evalue": "No module named 'geopandas'",
     "output_type": "error",
     "traceback": [
      "\u001b[1;31m---------------------------------------------------------------------------\u001b[0m",
      "\u001b[1;31mModuleNotFoundError\u001b[0m                       Traceback (most recent call last)",
      "Cell \u001b[1;32mIn[28], line 1\u001b[0m\n\u001b[1;32m----> 1\u001b[0m \u001b[38;5;28;01mimport\u001b[39;00m \u001b[38;5;21;01mgeopandas\u001b[39;00m \u001b[38;5;28;01mas\u001b[39;00m \u001b[38;5;21;01mgpd\u001b[39;00m\n\u001b[0;32m      2\u001b[0m latitude \u001b[38;5;241m=\u001b[39m top_hotspots[\u001b[38;5;124m'\u001b[39m\u001b[38;5;124mLAT\u001b[39m\u001b[38;5;124m'\u001b[39m]\n\u001b[0;32m      3\u001b[0m longitude \u001b[38;5;241m=\u001b[39m top_hotspots[\u001b[38;5;124m'\u001b[39m\u001b[38;5;124mLON\u001b[39m\u001b[38;5;124m'\u001b[39m]\n",
      "\u001b[1;31mModuleNotFoundError\u001b[0m: No module named 'geopandas'"
     ]
    }
   ],
   "source": [
    "import geopandas as gpd\n",
    "latitude = top_hotspots['LAT']\n",
    "longitude = top_hotspots['LON']\n",
    "gdf = gpd.GeoDataFrame(geometry=gpd.points_from_xy(longitude, latitude))\n",
    "world = gpd.read_file(gpd.datasets.get_path('naturalearth_lowres'))\n",
    "world.plot()\n",
    "gdf.plot(ax=plt.gca(), color='red', marker='o', markersize=50)\n",
    "plt.show()\n"
   ]
  },
  {
   "cell_type": "code",
   "execution_count": null,
   "id": "cc581e29-79e0-42d3-b251-e4a0472a357c",
   "metadata": {},
   "outputs": [],
   "source": [
    "plt.figure(figsize=(12, 6))\n",
    "plt.bar(range(len(top_hotspots)), top_hotspots['crime_count'], color='skyblue')\n",
    "\n",
    "# Adding labels and title\n",
    "plt.xlabel('Latitude-Longitude Pair Index')\n",
    "plt.ylabel('Crime Count')\n",
    "plt.title('Top Crime Count by Latitude and Longitude')\n",
    "\n",
    "# Setting x-tick labels as latitude-longitude pairs\n",
    "plt.xticks(range(len(top_hotspots)), [f'{LAT}, {LON}' for LAT, LON in zip(top_hotspots['LAT'], top_hotspots['LON'])], rotation=45, ha='right')\n",
    "plt.show()"
   ]
  },
  {
   "cell_type": "markdown",
   "id": "2e8512b1-ad23-4fc7-b1dd-922e6a69261f",
   "metadata": {},
   "source": [
    "### __Victim Demographics:__"
   ]
  },
  {
   "cell_type": "markdown",
   "id": "7df5e5b2-7a9b-4c8f-9b82-fbd1b6cd2222",
   "metadata": {},
   "source": [
    "### __1.What is the distribution of victim ages in reported crimes?__"
   ]
  },
  {
   "cell_type": "code",
   "execution_count": null,
   "id": "36194e5f-da3d-4a40-bc49-74c79bd188c8",
   "metadata": {},
   "outputs": [],
   "source": [
    "plt.figure(figsize=(10, 6))\n",
    "plt.hist(crime['Vict_Age'], bins=10, color='skyblue', edgecolor='black',density=True)\n",
    "sns.kdeplot(crime['Vict_Age'], color='red', linestyle='-', linewidth=2)\n",
    "# Adding labels and title\n",
    "plt.xlabel('Victim Age')\n",
    "plt.ylabel('Frequency')\n",
    "plt.title('Distribution of Victim Ages in Reported Crimes')\n",
    "# Show plot\n",
    "plt.grid(True)\n",
    "plt.show()"
   ]
  },
  {
   "cell_type": "code",
   "execution_count": null,
   "id": "64a6c1c2-2e42-4b56-8d36-623d1418bc8d",
   "metadata": {},
   "outputs": [],
   "source": [
    "a=round(crime['Vict_Age'].mean())\n",
    "#print(a)\n",
    "crime['Vict_Age']=crime['Vict_Age'].replace(0,a)\n",
    "crime['Vict_Age'].isnull().sum()\n"
   ]
  },
  {
   "cell_type": "code",
   "execution_count": null,
   "id": "bcf069bc-4690-4d53-af67-2f7fb0ef4e5b",
   "metadata": {},
   "outputs": [],
   "source": [
    "plt.figure(figsize=(10, 6))\n",
    "plt.hist(crime['Vict_Age'], bins=10, color='skyblue', edgecolor='black',density=True)\n",
    "sns.kdeplot(crime['Vict_Age'], color='red', linestyle='-', linewidth=2)\n",
    "# Adding labels and title\n",
    "plt.xlabel('Victim Age')\n",
    "plt.ylabel('Frequency')\n",
    "plt.title('Distribution of Victim Ages in Reported Crimes')\n",
    "# Show plot\n",
    "plt.grid(True)\n",
    "plt.show()"
   ]
  },
  {
   "cell_type": "markdown",
   "id": "94d516b6-8832-4cab-9f8d-669856d0d501",
   "metadata": {},
   "source": [
    "### __Is there a significant difference in crime rates between male and female victims?__"
   ]
  },
  {
   "cell_type": "code",
   "execution_count": null,
   "id": "e4451c99-16eb-428c-b73b-24c2aeda978a",
   "metadata": {},
   "outputs": [],
   "source": [
    "crime_sex=crime.groupby('Vict_Sex').size().reset_index(name='crime_vict_sex')\n",
    "print(crime_sex)"
   ]
  },
  {
   "cell_type": "code",
   "execution_count": null,
   "id": "4a3bf532-3116-4de5-9c30-5b50c01711ca",
   "metadata": {},
   "outputs": [],
   "source": [
    "plt.bar(crime_sex['Vict_Sex'],crime_sex['crime_vict_sex'], color=['blue', 'pink','yellow'])\n",
    "plt.xlabel('Gender')\n",
    "plt.ylabel('Count')\n",
    "plt.title('Count of Males and Females')\n",
    "plt.show()"
   ]
  },
  {
   "cell_type": "code",
   "execution_count": null,
   "id": "edb213f0-9cd9-4a59-9209-847f213e566e",
   "metadata": {},
   "outputs": [],
   "source": [
    "label=crime_sex['Vict_Sex']\n",
    "value=crime_sex['crime_vict_sex']\n",
    "plt.figure(figsize=(6, 6))\n",
    "plt.pie(value,labels=label,autopct='%1.1f%%', startangle=140, colors=['lightblue', 'lightcoral', 'lightgreen'])\n",
    "plt.title('Crime Victims by Gender')\n",
    "plt.axis('equal')  # Equal aspect ratio ensures that pie is drawn as a circle\n",
    "plt.show()"
   ]
  },
  {
   "cell_type": "markdown",
   "id": "8e749eb2-548f-4ce7-aba4-bddeb06fc890",
   "metadata": {},
   "source": [
    "### __Location Analysis:<br>Where do most crimes occur based on the \"Location\" column?__"
   ]
  },
  {
   "cell_type": "code",
   "execution_count": null,
   "id": "0d5a59f7-8e03-4967-9e32-ba56b59f3ba8",
   "metadata": {},
   "outputs": [],
   "source": [
    "df=crime.groupby('Location').size().reset_index(name='crime_count')\n",
    "df_sorted = df.sort_values(by='crime_count', ascending=False)\n",
    "#print(df_sorted)\n",
    "to=df_sorted.head(10) \n",
    "top=to.sort_values(by='crime_count')\n",
    "print(top)"
   ]
  },
  {
   "cell_type": "code",
   "execution_count": null,
   "id": "fe23d881-ed04-4cfc-afa7-8a089b324d95",
   "metadata": {},
   "outputs": [],
   "source": [
    "plt.barh(top['Location'],top['crime_count'])\n",
    "plt.xlabel('count')\n",
    "plt.ylabel('Location')\n",
    "plt.title('Top Location of crime')\n",
    "plt.show()"
   ]
  },
  {
   "cell_type": "markdown",
   "id": "defec0aa-054e-4b2e-9f89-529ddd1c25e9",
   "metadata": {},
   "source": [
    "### __Crime Code Analysis:<br>What is the distribution of reported crimes based on Crime Code?__"
   ]
  },
  {
   "cell_type": "code",
   "execution_count": null,
   "id": "0f6f6f3d-a414-464c-bdf0-837e5e905b68",
   "metadata": {},
   "outputs": [],
   "source": [
    "df=crime.groupby(['Crm_Cd','Crm_Cd_Desc']).size().reset_index(name='crime_count')\n",
    "print(df)\n",
    "print(\"Total number of crime code\",len(df))"
   ]
  },
  {
   "cell_type": "code",
   "execution_count": null,
   "id": "4a8e6756-e65b-4a7b-8f0b-69eb05db3412",
   "metadata": {},
   "outputs": [],
   "source": [
    "plt.figure(figsize=(8, 6))\n",
    "bin=list(range(min(df['Crm_Cd']),max(df['Crm_Cd'])+100,100))\n",
    "#print(bin)\n",
    "plt.hist(crime['Crm_Cd'],bins=bin,color='skyblue',edgecolor='black',density=True)\n",
    "sns.kdeplot(crime['Crm_Cd'], color='red', linestyle='-', linewidth=2)\n",
    "plt.xticks(bin)\n",
    "plt.xlabel('Crime Code')\n",
    "plt.ylabel('Frequency')\n",
    "plt.title('Distribution of Crime Counts')\n",
    "plt.grid(True)\n",
    "plt.show()"
   ]
  }
 ],
 "metadata": {
  "kernelspec": {
   "display_name": "Python 3 (ipykernel)",
   "language": "python",
   "name": "python3"
  },
  "language_info": {
   "codemirror_mode": {
    "name": "ipython",
    "version": 3
   },
   "file_extension": ".py",
   "mimetype": "text/x-python",
   "name": "python",
   "nbconvert_exporter": "python",
   "pygments_lexer": "ipython3",
   "version": "3.11.7"
  }
 },
 "nbformat": 4,
 "nbformat_minor": 5
}
